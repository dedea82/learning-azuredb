{
    "metadata": {
        "kernelspec": {
            "name": "SQL",
            "display_name": "SQL",
            "language": "sql"
        },
        "language_info": {
            "name": "sql",
            "version": ""
        },
        "extensions": {
            "azuredatastudio": {
                "version": 1,
                "views": []
            }
        }
    },
    "nbformat_minor": 2,
    "nbformat": 4,
    "cells": [
        {
            "cell_type": "markdown",
            "source": [
                "# Learning Azure SQL - JSON data type\n",
                "\n",
                "Please follow previous notebook in order to have a full working env."
            ],
            "metadata": {
                "azdata_cell_guid": "73251b6e-71b5-41f4-a957-432c783f7de4"
            },
            "attachments": {}
        },
        {
            "cell_type": "markdown",
            "source": [
                "## Step 1: Create JSON column"
            ],
            "metadata": {
                "azdata_cell_guid": "6f986004-ea33-4fb0-8393-d49e0e936b4f"
            },
            "attachments": {}
        },
        {
            "cell_type": "code",
            "source": [
                "-- nvarchar(max) data type lets you store JSON documents that are up to 2 GB in size.\r\n",
                "ALTER TABLE Person ADD JsonColumn NVARCHAR(MAX) NULL;"
            ],
            "metadata": {
                "azdata_cell_guid": "8fdf6412-cf7f-444b-9722-abe1f6ac70ab",
                "tags": []
            },
            "outputs": [],
            "execution_count": null
        },
        {
            "cell_type": "code",
            "source": [
                "-- JSON column should be formatted as JSON\r\n",
                "ALTER TABLE Person ADD CONSTRAINT CK_Person_JsonColumn CHECK (ISJSON(JsonColumn)  = 1);"
            ],
            "metadata": {
                "azdata_cell_guid": "701f8dca-7799-4bbc-9178-0f11f782c4fe"
            },
            "outputs": [],
            "execution_count": null
        },
        {
            "cell_type": "markdown",
            "source": [
                "## Step 2: Update some JSON values"
            ],
            "metadata": {
                "azdata_cell_guid": "4dea21b5-2f75-41a7-b5f4-711e4b8c2c61"
            },
            "attachments": {}
        },
        {
            "cell_type": "code",
            "source": [
                "-- check JSON constraint (this code MUST fail)\r\n",
                "UPDATE Person SET JsonColumn = 'NOT-A-JSON' WHERE PersonId = 1"
            ],
            "metadata": {
                "azdata_cell_guid": "0d0de075-868b-43d8-8e89-1b8a9f6e4f8f"
            },
            "outputs": [],
            "execution_count": null
        },
        {
            "cell_type": "code",
            "source": [
                "UPDATE Person SET JsonColumn = '{ \"gender\": \"male\", \"addresses\": [{ \"address\": \"Piazza Duomo, 22\", \"city\": \"Milano\", \"pv\": \"MI\" }] }'\r\n",
                "WHERE PersonId = 1"
            ],
            "metadata": {
                "azdata_cell_guid": "2386c006-3560-473b-bf54-111cf88671c4"
            },
            "outputs": [],
            "execution_count": null
        },
        {
            "cell_type": "markdown",
            "source": [
                "## Step 3: Some query (JSON inside)"
            ],
            "metadata": {
                "azdata_cell_guid": "77fb87e0-c706-43dd-98b1-6be2ecd84948"
            },
            "attachments": {}
        },
        {
            "cell_type": "code",
            "source": [
                "SELECT Person.FirstName, Person.LastName,\r\n",
                "    JSON_VALUE(JsonColumn, '$.gender') AS gender,\r\n",
                "    JSON_VALUE(JsonColumn, '$.addresses[0].city') AS city\r\n",
                "FROM Person\r\n",
                "WHERE JSON_VALUE(JsonColumn, '$.gender') IS NOT NULL"
            ],
            "metadata": {
                "azdata_cell_guid": "90baa54b-bd79-4fca-bb6d-eafa589d32f0"
            },
            "outputs": [],
            "execution_count": null
        }
    ]
}