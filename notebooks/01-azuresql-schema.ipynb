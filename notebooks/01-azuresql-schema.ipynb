{
    "metadata": {
        "kernelspec": {
            "name": "SQL",
            "display_name": "SQL",
            "language": "sql"
        },
        "language_info": {
            "name": "sql",
            "version": ""
        },
        "extensions": {
            "azuredatastudio": {
                "version": 1,
                "views": []
            }
        }
    },
    "nbformat_minor": 2,
    "nbformat": 4,
    "cells": [
        {
            "cell_type": "markdown",
            "source": [
                "# Learning Azure SQL - My First Notebook\r\n",
                "\r\n",
                "This is a demo SQL notebook.\r\n",
                "\r\n",
                "Please attach to an existing Azure SQL Database and proceed with following steps;"
            ],
            "metadata": {
                "azdata_cell_guid": "d772e900-75b3-497b-8982-00db419b3115"
            }
        },
        {
            "cell_type": "markdown",
            "source": [
                "## Step 1: Create starting tables"
            ],
            "metadata": {
                "azdata_cell_guid": "2bc27c47-4a56-4bbe-8687-085940997535"
            },
            "attachments": {}
        },
        {
            "cell_type": "code",
            "source": [
                "DROP TABLE IF EXISTS Person;\r\n",
                "\r\n",
                "-- Create Person table\r\n",
                "CREATE TABLE Person\r\n",
                "(\r\n",
                "    PersonId INT IDENTITY PRIMARY KEY,\r\n",
                "    FirstName VARCHAR(128) NOT NULL,\r\n",
                "    LastName VARCHAR(128) NOT NULL,\r\n",
                "    DateOfBirth DATE NOT NULL\r\n",
                ")"
            ],
            "metadata": {
                "azdata_cell_guid": "179afe13-9351-4030-98d6-247398e21bd1",
                "tags": []
            },
            "outputs": [],
            "execution_count": null
        },
        {
            "cell_type": "markdown",
            "source": [
                "## Step 2: Insert and select some rows"
            ],
            "metadata": {
                "azdata_cell_guid": "93c496f7-0496-44b3-9b0b-32095e37d741"
            }
        },
        {
            "cell_type": "code",
            "source": [
                "INSERT INTO Person (FirstName, LastName, DateOfBirth) \r\n",
                "VALUES ('Andrea', 'Fumagalli', '1982-02-03')"
            ],
            "metadata": {
                "azdata_cell_guid": "d888fdd7-1e58-46e3-b171-e7688cc6ce85",
                "tags": []
            },
            "outputs": [],
            "execution_count": null
        },
        {
            "cell_type": "code",
            "source": [
                "SELECT * FROM Person\r\n",
                "ORDER BY PersonId DESC"
            ],
            "metadata": {
                "azdata_cell_guid": "0c47dbf6-119c-45c8-9a47-1ae906d14c87",
                "tags": []
            },
            "outputs": [],
            "execution_count": null
        },
        {
            "cell_type": "markdown",
            "source": [
                "## Step 3: Alter table (adding columns)"
            ],
            "metadata": {
                "azdata_cell_guid": "f8942582-6eb3-4691-9e1c-c152680b72a2"
            }
        },
        {
            "cell_type": "code",
            "source": [
                "ALTER TABLE Person ADD \r\n",
                "    Email VARCHAR(128) NULL,\r\n",
                "    LastUpdate DATETIME NOT NULL DEFAULT CURRENT_TIMESTAMP"
            ],
            "metadata": {
                "azdata_cell_guid": "dcebe476-c280-4486-a99a-72bc80e47593"
            },
            "outputs": [],
            "execution_count": null
        }
    ]
}