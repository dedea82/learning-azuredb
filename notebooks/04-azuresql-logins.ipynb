{
    "metadata": {
        "kernelspec": {
            "name": "SQL",
            "display_name": "SQL",
            "language": "sql"
        },
        "language_info": {
            "name": "sql",
            "version": ""
        }
    },
    "nbformat_minor": 2,
    "nbformat": 4,
    "cells": [
        {
            "cell_type": "markdown",
            "source": [
                "# Learning Azure SQL - Logins and Users"
            ],
            "metadata": {
                "azdata_cell_guid": "6f677340-8043-456b-be1c-c1658a32379c"
            }
        },
        {
            "cell_type": "markdown",
            "source": [
                "## Step 1. Creating a login with a password"
            ],
            "metadata": {
                "azdata_cell_guid": "24b4fe96-0d4e-4749-b42e-c7090904e2f4"
            }
        },
        {
            "cell_type": "code",
            "source": [
                "USE [master]\r\n",
                "CREATE LOGIN [dedea82-sql-user] WITH PASSWORD = 'SuperSecret!';\r\n",
                "GO"
            ],
            "metadata": {
                "azdata_cell_guid": "d0cba7a0-aee2-4546-a5c5-4910f8720671"
            },
            "outputs": [],
            "execution_count": null
        },
        {
            "cell_type": "markdown",
            "source": [
                "## Step 2. Creating a database user based on a SQL Server login"
            ],
            "metadata": {
                "azdata_cell_guid": "9b2c0f2e-109f-4385-8330-27a5565b88cf"
            }
        },
        {
            "cell_type": "code",
            "source": [
                "USE [db001]\r\n",
                "CREATE USER [dedea82-sql-user] FOR LOGIN [dedea82-sql-user];  \r\n",
                "GO"
            ],
            "metadata": {
                "azdata_cell_guid": "2333abeb-069d-49c1-8f0f-acb2c5d05c25"
            },
            "outputs": [],
            "execution_count": null
        },
        {
            "cell_type": "markdown",
            "source": [
                "## Step 3. Updating user adding database roles"
            ],
            "metadata": {
                "azdata_cell_guid": "df1a8de1-2bfc-4fa1-be1c-d6b34f2b9040"
            }
        },
        {
            "cell_type": "code",
            "source": [
                "USE [db001]\r\n",
                "EXEC sys.sp_addrolemember 'db_datareader', 'dedea82-sql-user'\r\n",
                "EXEC sys.sp_addrolemember 'db_datawriter', 'dedea82-sql-user'\r\n",
                "GO"
            ],
            "metadata": {
                "azdata_cell_guid": "bac41dc6-1707-4377-bdb9-7becbf466fae"
            },
            "outputs": [],
            "execution_count": null
        },
        {
            "cell_type": "markdown",
            "source": [
                "## Step 4. Removing database role from user"
            ],
            "metadata": {
                "azdata_cell_guid": "cb202f7c-3c40-4a65-b852-208f26f45831"
            }
        },
        {
            "cell_type": "code",
            "source": [
                "USE [db001]\r\n",
                "EXEC sys.sp_droprolemember 'db_datawriter', 'dedea82-sql-user'\r\n",
                "GO"
            ],
            "metadata": {
                "azdata_cell_guid": "90897b59-4044-4f72-b8ae-818c6b8f3a47"
            },
            "outputs": [],
            "execution_count": null
        }
    ]
}